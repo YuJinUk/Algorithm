{
 "cells": [
  {
   "attachments": {},
   "cell_type": "markdown",
   "metadata": {},
   "source": [
    "# Stack이란?\n",
    "> 스택은 데이터의 삽입과 삭제가 데이터의 가장 한쪽 끝에서만 일어나는 자료구조.\n",
    "> 즉, 가장 마지막에 삽입된 데이터가 가장 먼저 삭제 or 추출됨.\n",
    "> 이를 LIFO(Last In, First Out)이라고 부름\n",
    "\n",
    "> 주요 method\n",
    "> - push, pop\n",
    ">   - push : 데이터 삽입\n",
    ">   - pop : 데이터 삭제\n",
    "> - top : 가장 마지막에 삽입한 데이터를 삭제하지 않고 return 해주는 method\n",
    "> - isEmpty : Stack이 비어있으면 return True / 하나라도 있으면 return False"
   ]
  },
  {
   "attachments": {},
   "cell_type": "markdown",
   "metadata": {},
   "source": [
    "# List로 Stack 표현"
   ]
  },
  {
   "cell_type": "code",
   "execution_count": 1,
   "metadata": {},
   "outputs": [],
   "source": [
    "class Stack():\n",
    "    def __init__(self):\n",
    "        self.stack = []\n",
    "        \n",
    "    def push(self, data):\n",
    "        self.stack.append(data)\n",
    "        \n",
    "    def pop(self):\n",
    "        pop_object = None\n",
    "        if self.isEmpty():\n",
    "            print(\"Stack is Empty\")\n",
    "        else:\n",
    "            pop_object = self.stack.pop()\n",
    "            \n",
    "        return pop_object\n",
    "            \n",
    "    def top(self):\n",
    "        top_object = None\n",
    "        if self.isEmpty():\n",
    "            print(\"Stack is Empty\")\n",
    "        else:\n",
    "            top_object = self.stack[-1]\n",
    "            \n",
    "        return top_object\n",
    "            \n",
    "            \n",
    "    def isEmpty(self):\n",
    "        is_empty = False\n",
    "        if len(self.stack) == 0:\n",
    "            is_empty = True\n",
    "        return is_empty"
   ]
  },
  {
   "attachments": {},
   "cell_type": "markdown",
   "metadata": {},
   "source": [
    "# Singly Linked List로 구현\n",
    "\n",
    "- [리스트를 구성하는 노드를 한 방향으로 연결하는 자료 구조](https://m.blog.naver.com/PostView.naver?isHttpsRedirect=true&blogId=specialist0&logNo=221415434341)"
   ]
  },
  {
   "cell_type": "code",
   "execution_count": null,
   "metadata": {},
   "outputs": [],
   "source": [
    "class Node:\n",
    "    def __init__(self, data):\n",
    "        self.data = data\n",
    "        self.next = None\n",
    "\n",
    "class LinkedListStack():\n",
    "    def __init__(self):\n",
    "        self.head = None\n",
    "        \n",
    "    def push(self, data):\n",
    "        new_node = Node(data)\n",
    "        new_node.next = self.head\n",
    "        self.head = new_node\n",
    "        \n",
    "    def pop(self):\n",
    "        pop_object = None\n",
    "        if self.isEmpty():\n",
    "            print(\"Stack is Empty\")\n",
    "        else:\n",
    "            pop_object = self.head.data\n",
    "            self.head = self.head.next\n",
    "        return pop_object\n",
    "    \n",
    "    def top(self):\n",
    "        top_object = None\n",
    "        if self.isEmpty():\n",
    "            print(\"Stack is Empty\")\n",
    "        else:\n",
    "            top_object = self.head.data            \n",
    "        return top_object\n",
    "    \n",
    "    def isEmpty(self):\n",
    "        is_empty = False\n",
    "        if self.head is None:\n",
    "            is_empty = True\n",
    "        return is_empty"
   ]
  }
 ],
 "metadata": {
  "kernelspec": {
   "display_name": "Python 3",
   "language": "python",
   "name": "python3"
  },
  "language_info": {
   "codemirror_mode": {
    "name": "ipython",
    "version": 3
   },
   "file_extension": ".py",
   "mimetype": "text/x-python",
   "name": "python",
   "nbconvert_exporter": "python",
   "pygments_lexer": "ipython3",
   "version": "3.11.1"
  },
  "orig_nbformat": 4,
  "vscode": {
   "interpreter": {
    "hash": "a1e1ea5d8978ffcdd7a1167ee9f708119fd6e6412e0f29b0e88b25f35f41899c"
   }
  }
 },
 "nbformat": 4,
 "nbformat_minor": 2
}
