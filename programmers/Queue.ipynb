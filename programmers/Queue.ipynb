{
 "cells": [
  {
   "attachments": {},
   "cell_type": "markdown",
   "metadata": {},
   "source": [
    "# Queue\n",
    "\n",
    "> 큐(Queue)는 양쪽이 뚫려있는 통에 한쪽은 데이터를 삽입하고 한쪽은 데이터를 삭제하는 자료 구조.\n",
    ">   - 먼저 들어간 데이터가 먼저 나오기 때문에 이를 FIFO(First In, First Out)이라고 함\n",
    ">\n",
    "> 데이터의 앞부분을 Front, 뒷부분을 Rear라 부름\n",
    ">   - 데이터는 Rear로 들어와서 Front로 나간다.\n",
    ">\n",
    "### Method\n",
    "\n",
    "> - 데이터를 삽입하는 과정을 enqueue라 함\n",
    "> - 반대로, 데이터를 삭제하는 과정을 dequeue라 함\n",
    ">   - dequeue의 경우 queue가 비어있는지 먼저 확인한 후에 실행\n",
    "\n",
    "> - peek\n",
    ">   - front에 있는 데이터를 삭제하지 않고 return만 해주는 method\n",
    "\n",
    "> - isEmpty\n",
    ">   - queue가 비어있으면 return True, 아니면 return False "
   ]
  },
  {
   "attachments": {},
   "cell_type": "markdown",
   "metadata": {},
   "source": [
    "# List로 구현"
   ]
  },
  {
   "cell_type": "code",
   "execution_count": 1,
   "metadata": {},
   "outputs": [],
   "source": [
    "class Queue():\n",
    "    def __init__(self):\n",
    "        self.queue = []\n",
    "        \n",
    "    def enqueue(self, data):\n",
    "        self.queue.append(data)\n",
    "        \n",
    "    def dequeue(self):\n",
    "        dequeue_object = None\n",
    "        if self.isEmpty():\n",
    "            print(\"Queue is Empty\")\n",
    "        else:\n",
    "            dequeue_object = self.queue[0]\n",
    "            self.queue = self.queue[1:]\n",
    "            \n",
    "        return dequeue_object\n",
    "            \n",
    "    def peek(self):\n",
    "        peek_object = None\n",
    "        if self.isEmpty():\n",
    "            print(\"Queue is Empty\")\n",
    "        else:\n",
    "            peek_object = self.queue[0]\n",
    "            \n",
    "        return peek_object\n",
    "            \n",
    "    def isEmpty(self):\n",
    "        is_empty = False\n",
    "        if len(self.queue) == 0:\n",
    "            is_empty = True\n",
    "        return is_empty"
   ]
  },
  {
   "attachments": {},
   "cell_type": "markdown",
   "metadata": {},
   "source": [
    "# Singly Linked List로 구현"
   ]
  },
  {
   "cell_type": "code",
   "execution_count": 2,
   "metadata": {},
   "outputs": [],
   "source": [
    "class Node:\n",
    "    def __init__(self, data):\n",
    "        self.data = data\n",
    "        self.next = None\n",
    "\n",
    "class LinkedListQueue():\n",
    "    def __init__(self):\n",
    "        self.front = None\n",
    "        self.rear = None\n",
    "        \n",
    "    def enqueue(self, data):\n",
    "        new_node = Node(data)\n",
    "        \n",
    "        if self.front is None:\n",
    "            self.front = new_node\n",
    "            self.rear = new_node\n",
    "        else:\n",
    "            self.rear.next = new_node\n",
    "            self.rear = self.rear.next\n",
    "        \n",
    "    def dequeue(self):\n",
    "        dequeue_object = None\n",
    "        if self.isEmpty():\n",
    "            print(\"Queue is Empty\")\n",
    "        else:\n",
    "            dequeue_object = self.front.data\n",
    "            self.front = self.front.next\n",
    "            \n",
    "        if self.front is None:\n",
    "            self.rear = None\n",
    "        return dequeue_object\n",
    "    \n",
    "    def peek(self):\n",
    "        front_object = None\n",
    "        if self.isEmpty():\n",
    "            print(\"Queue is Empty\")\n",
    "        else:\n",
    "            front_object = self.front.data            \n",
    "        return front_object\n",
    "    \n",
    "    def isEmpty(self):\n",
    "        is_empty = False\n",
    "        if self.front is None:\n",
    "            is_empty = True\n",
    "        return is_empty"
   ]
  }
 ],
 "metadata": {
  "kernelspec": {
   "display_name": "Python 3",
   "language": "python",
   "name": "python3"
  },
  "language_info": {
   "codemirror_mode": {
    "name": "ipython",
    "version": 3
   },
   "file_extension": ".py",
   "mimetype": "text/x-python",
   "name": "python",
   "nbconvert_exporter": "python",
   "pygments_lexer": "ipython3",
   "version": "3.11.1"
  },
  "orig_nbformat": 4,
  "vscode": {
   "interpreter": {
    "hash": "a1e1ea5d8978ffcdd7a1167ee9f708119fd6e6412e0f29b0e88b25f35f41899c"
   }
  }
 },
 "nbformat": 4,
 "nbformat_minor": 2
}
